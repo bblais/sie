{
 "cells": [
  {
   "cell_type": "markdown",
   "metadata": {},
   "source": [
    "# sie - Statistical Inference for Everyone\n",
    "\n",
    "> The main library supporting the Statistical Inference for Everyone work."
   ]
  },
  {
   "cell_type": "code",
   "execution_count": null,
   "metadata": {},
   "outputs": [],
   "source": [
    "#| default_exp core"
   ]
  },
  {
   "cell_type": "code",
   "execution_count": null,
   "metadata": {},
   "outputs": [],
   "source": [
    "#| export\n",
    "import matplotlib as mpl\n",
    "mpl.rcParams['lines.linewidth'] = 3\n",
    "mpl.rcParams['figure.figsize'] = (12,8)\n",
    "mpl.rcParams['axes.grid']=True\n",
    "\n",
    "size=20\n",
    "family='sans-serif'\n",
    "\n",
    "\n",
    "from matplotlib import rc\n",
    "rc('font',size=size,family=family)\n",
    "rc('axes',labelsize=size)\n",
    "rc('axes',titlesize=size)\n",
    "rc('xtick',labelsize=size)\n",
    "rc('ytick',labelsize=size)\n",
    "rc('legend',fontsize=size)\n"
   ]
  },
  {
   "cell_type": "code",
   "execution_count": null,
   "metadata": {},
   "outputs": [],
   "source": [
    "#| hide\n",
    "import nbdev; nbdev.nbdev_export()"
   ]
  },
  {
   "cell_type": "code",
   "execution_count": null,
   "metadata": {},
   "outputs": [],
   "source": []
  }
 ],
 "metadata": {
  "kernelspec": {
   "display_name": "python3",
   "language": "python",
   "name": "python3"
  }
 },
 "nbformat": 4,
 "nbformat_minor": 4
}
