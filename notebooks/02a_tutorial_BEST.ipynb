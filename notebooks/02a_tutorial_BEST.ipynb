{
 "cells": [
  {
   "cell_type": "markdown",
   "id": "2f1bdea0-1dbd-4cd3-bb11-a2108aa273bb",
   "metadata": {},
   "source": [
    "## Tutorial: BEST Test"
   ]
  },
  {
   "cell_type": "code",
   "execution_count": null,
   "id": "7a43c107-0373-44b6-9f80-1001c7c95fe6",
   "metadata": {},
   "outputs": [],
   "source": [
    "#| hide\n",
    "#skip\n",
    "! [ -e /content ] && pip install -Uqq pyndamics3 emcee # upgrade pyndamics3 on colab"
   ]
  },
  {
   "cell_type": "code",
   "execution_count": null,
   "id": "a338bd93-3b2c-4cc1-b469-2f9d7ab5fdf0",
   "metadata": {},
   "outputs": [],
   "source": [
    "%matplotlib inline\n",
    "from pylab import *"
   ]
  },
  {
   "cell_type": "code",
   "execution_count": null,
   "id": "29a484e4-8ae2-49f4-a911-3bae1e0ef46a",
   "metadata": {},
   "outputs": [],
   "source": [
    "from sie.mcmc import StatsModel"
   ]
  },
  {
   "cell_type": "code",
   "execution_count": null,
   "id": "82ae4486-0e0a-409a-9cb5-51c7c465e073",
   "metadata": {},
   "outputs": [],
   "source": [
    "drug = (101,100,102,104,102,97,105,105,98,101,100,123,105,103,100,95,102,106,\n",
    "        109,102,82,102,100,102,102,101,102,102,103,103,97,97,103,101,97,104,\n",
    "        96,103,124,101,101,100,101,101,104,100,101)\n",
    "placebo = (99,101,100,101,102,100,97,101,104,101,102,102,100,105,88,101,100,\n",
    "           104,100,100,100,101,102,103,97,101,101,100,101,99,101,100,100,\n",
    "           101,100,99,101,100,102,99,100,99)"
   ]
  },
  {
   "cell_type": "code",
   "execution_count": null,
   "id": "30b9c3b3-bd46-4e75-a715-424387903827",
   "metadata": {},
   "outputs": [
    {
     "data": {
      "text/plain": [
       "\n",
       "Parameters\n",
       "----------\n",
       "    {'μ_drug': μ_drug, 'μ_placebo': μ_placebo, 'σ_drug': σ_drug, 'σ_placebo': σ_placebo, 'ν': ν}\n",
       "Extra\n",
       "-----\n",
       "    ['S', 'M', 'mn', 'mx']\n",
       "Data\n",
       "----\n",
       "    ['drug', 'placebo']\n",
       "Prior\n",
       "-----\n",
       "    ['μ_drug ~ Normal(M,1000*S)', 'μ_placebo ~ Normal(M,1000*S)', 'σ_drug ~ Uniform(mn,mx)', 'σ_placebo ~ Uniform(mn,mx)', 'ν ~ Exponential(29,offset=1)']\n",
       "Likelihood\n",
       "----------\n",
       "    []\n",
       "Data Parameters\n",
       "---------------\n",
       "    ['drug ~ StudentT(ν,μ_drug,σ_drug)', 'placebo ~ StudentT(ν,μ_placebo,σ_placebo)']\n",
       "        "
      ]
     },
     "execution_count": null,
     "metadata": {},
     "output_type": "execute_result"
    }
   ],
   "source": [
    "model=StatsModel()\n",
    "model.add_data(drug=drug,placebo=placebo)\n",
    "\n",
    "pooled=np.concatenate([drug,placebo])\n",
    "S=mean(pooled)\n",
    "M=std(pooled)                      \n",
    "model.extra(S=S,M=M,mn=0.001*S,mx=1000*S)\n",
    "\n",
    "\n",
    "model.add(\"μ_drug ~ Normal(M,1000*S)\")\n",
    "model.add(\"μ_placebo ~ Normal(M,1000*S)\")\n",
    "model.add(\"σ_drug ~ Uniform(mn,mx)\")\n",
    "model.add(\"σ_placebo ~ Uniform(mn,mx)\")\n",
    "model.add(\"ν ~ Exponential(29,offset=1)\")\n",
    "model.add(\"drug ~ StudentT(ν,μ_drug,σ_drug)\")\n",
    "model.add(\"placebo ~ StudentT(ν,μ_placebo,σ_placebo)\")\n",
    "\n",
    "\n",
    "model.initialize()\n",
    "model"
   ]
  },
  {
   "cell_type": "code",
   "execution_count": null,
   "id": "7f524197-bd31-48db-8f11-a03dbb195136",
   "metadata": {},
   "outputs": [
    {
     "name": "stdout",
     "output_type": "stream",
     "text": [
      "def _lnprior(θ,slices,extra={}):\n",
      "    S=extra['S']\n",
      "    M=extra['M']\n",
      "    mn=extra['mn']\n",
      "    mx=extra['mx']\n",
      "    μ_drug=θ[slices.μ_drug]\n",
      "    μ_placebo=θ[slices.μ_placebo]\n",
      "    σ_drug=θ[slices.σ_drug]\n",
      "    σ_placebo=θ[slices.σ_placebo]\n",
      "    ν=θ[slices.ν]\n",
      "\n",
      "    _value=0\n",
      "\n",
      "    _value+=Normal(M,1000*S)(μ_drug)\n",
      "    _value+=Normal(M,1000*S)(μ_placebo)\n",
      "    _value+=Uniform(mn,mx)(σ_drug)\n",
      "    _value+=Uniform(mn,mx)(σ_placebo)\n",
      "    _value+=Exponential(29,offset=1)(ν)\n",
      "\n",
      "    return _value\n",
      "\n",
      "\n",
      "def _init_prior(nwalkers,ndim,data,slices,extra={}):\n",
      "    S=extra['S']\n",
      "    M=extra['M']\n",
      "    mn=extra['mn']\n",
      "    mx=extra['mx']\n",
      "    drug=data['drug']\n",
      "    placebo=data['placebo']\n",
      "\n",
      "    _pos=np.zeros((nwalkers,ndim))\n",
      "    μ_drug=_pos[:,slices.μ_drug]=init_Normal(M,1000*S)(nwalkers)\n",
      "    μ_placebo=_pos[:,slices.μ_placebo]=init_Normal(M,1000*S)(nwalkers)\n",
      "    σ_drug=_pos[:,slices.σ_drug]=init_Uniform(mn,mx)(nwalkers)\n",
      "    σ_placebo=_pos[:,slices.σ_placebo]=init_Uniform(mn,mx)(nwalkers)\n",
      "    ν=_pos[:,slices.ν]=init_Exponential(29,offset=1)(nwalkers)\n",
      "\n",
      "    return _pos\n",
      "\n",
      "\n",
      "def _lnlikelihood(θ,data,slices,extra={}):\n",
      "    S=extra['S']\n",
      "    M=extra['M']\n",
      "    mn=extra['mn']\n",
      "    mx=extra['mx']\n",
      "    drug=data['drug']\n",
      "    placebo=data['placebo']\n",
      "\n",
      "    μ_drug=θ[slices.μ_drug]\n",
      "    μ_placebo=θ[slices.μ_placebo]\n",
      "    σ_drug=θ[slices.σ_drug]\n",
      "    σ_placebo=θ[slices.σ_placebo]\n",
      "    ν=θ[slices.ν]\n",
      "\n",
      "\n",
      "    _value=0\n",
      "\n",
      "    _value+=StudentT(ν,μ_drug,σ_drug)(drug)\n",
      "    _value+=StudentT(ν,μ_placebo,σ_placebo)(placebo)\n",
      "\n",
      "    return _value.sum()\n",
      "\n"
     ]
    }
   ],
   "source": [
    "print(model.make_func())"
   ]
  },
  {
   "cell_type": "code",
   "execution_count": null,
   "id": "1ae25ec9-6d6c-4a9d-9002-4f806bf243c7",
   "metadata": {},
   "outputs": [
    {
     "name": "stdout",
     "output_type": "stream",
     "text": [
      "Sampling Prior...\n",
      "Done.\n",
      "0.41 s\n",
      "Running MCMC 1/3...\n",
      "emcee: Exception while calling your likelihood function:\n",
      "  params: [-1.76373583e+10  4.90159284e+10 -5.81801780e+16 -1.58753585e+18\n",
      " -6.26093289e+13]\n",
      "  args: []\n",
      "  kwargs: {}\n",
      "  exception:\n"
     ]
    },
    {
     "name": "stderr",
     "output_type": "stream",
     "text": [
      "/Users/bblais/Documents/Git/sie/sie/mcmc.py:228: RuntimeWarning: invalid value encountered in log\n",
      "  values=N*(gammaln((df+1)/2.0)-0.5*log(df*np.pi)-gammaln(df/2.0)-np.log(sd))+(-(df+1)/2.0)*np.log(1+t**2/df)\n",
      "Traceback (most recent call last):\n",
      "  File \"/opt/anaconda3/envs/work/lib/python3.11/site-packages/emcee/ensemble.py\", line 624, in __call__\n",
      "    return self.f(x, *self.args, **self.kwargs)\n",
      "           ^^^^^^^^^^^^^^^^^^^^^^^^^^^^^^^^^^^^\n",
      "  File \"/Users/bblais/Documents/Git/sie/sie/mcmc.py\", line 613, in __call__\n",
      "    return self._lnposterior(θ)\n",
      "           ^^^^^^^^^^^^^^^^^^^^\n",
      "  File \"/Users/bblais/Documents/Git/sie/sie/mcmc.py\", line 608, in _lnposterior\n",
      "    _value+=self._lnlikelihood(θ,self.data,self.slices,self.extra_params)\n",
      "            ^^^^^^^^^^^^^^^^^^^^^^^^^^^^^^^^^^^^^^^^^^^^^^^^^^^^^^^^^^^^^\n",
      "  File \"<string>\", line 58, in _lnlikelihood\n",
      "  File \"/Users/bblais/Documents/Git/sie/sie/mcmc.py\", line 231, in _StudentT\n",
      "    raise ValueError('NaN in StudentT',df,mu,sd)\n",
      "ValueError: ('NaN in StudentT', array([-6.26093289e+13]), array([-1.76373583e+10]), array([-5.8180178e+16]))\n"
     ]
    },
    {
     "ename": "ValueError",
     "evalue": "('NaN in StudentT', array([-6.26093289e+13]), array([-1.76373583e+10]), array([-5.8180178e+16]))",
     "output_type": "error",
     "traceback": [
      "\u001b[0;31m---------------------------------------------------------------------------\u001b[0m",
      "\u001b[0;31mValueError\u001b[0m                                Traceback (most recent call last)",
      "Cell \u001b[0;32mIn[8], line 1\u001b[0m\n\u001b[0;32m----> 1\u001b[0m model\u001b[38;5;241m.\u001b[39mrun_mcmc(\u001b[38;5;241m800\u001b[39m,repeat\u001b[38;5;241m=\u001b[39m\u001b[38;5;241m3\u001b[39m)\n\u001b[1;32m      2\u001b[0m model\u001b[38;5;241m.\u001b[39mplot_chains()\n",
      "File \u001b[0;32m~/Documents/Git/sie/sie/mcmc.py:542\u001b[0m, in \u001b[0;36mStatsModel.run_mcmc\u001b[0;34m(self, N, repeat, **kwargs)\u001b[0m\n\u001b[1;32m    539\u001b[0m \u001b[38;5;28;01melse\u001b[39;00m:\n\u001b[1;32m    540\u001b[0m     \u001b[38;5;28mprint\u001b[39m(\u001b[38;5;124m\"\u001b[39m\u001b[38;5;124mRunning MCMC \u001b[39m\u001b[38;5;132;01m%d\u001b[39;00m\u001b[38;5;124m/\u001b[39m\u001b[38;5;132;01m%d\u001b[39;00m\u001b[38;5;124m...\u001b[39m\u001b[38;5;124m\"\u001b[39m \u001b[38;5;241m%\u001b[39m (i\u001b[38;5;241m+\u001b[39m\u001b[38;5;241m1\u001b[39m,repeat))\n\u001b[0;32m--> 542\u001b[0m \u001b[38;5;28mself\u001b[39m\u001b[38;5;241m.\u001b[39msampler\u001b[38;5;241m.\u001b[39mrun_mcmc(\u001b[38;5;28mself\u001b[39m\u001b[38;5;241m.\u001b[39mlast_pos, N,\u001b[38;5;241m*\u001b[39m\u001b[38;5;241m*\u001b[39mkwargs)\n\u001b[1;32m    543\u001b[0m \u001b[38;5;28mprint\u001b[39m(\u001b[38;5;124m\"\u001b[39m\u001b[38;5;124mDone.\u001b[39m\u001b[38;5;124m\"\u001b[39m)\n\u001b[1;32m    544\u001b[0m \u001b[38;5;28mprint\u001b[39m (timeit())\n",
      "File \u001b[0;32m/opt/anaconda3/envs/work/lib/python3.11/site-packages/emcee/ensemble.py:443\u001b[0m, in \u001b[0;36mEnsembleSampler.run_mcmc\u001b[0;34m(self, initial_state, nsteps, **kwargs)\u001b[0m\n\u001b[1;32m    440\u001b[0m     initial_state \u001b[38;5;241m=\u001b[39m \u001b[38;5;28mself\u001b[39m\u001b[38;5;241m.\u001b[39m_previous_state\n\u001b[1;32m    442\u001b[0m results \u001b[38;5;241m=\u001b[39m \u001b[38;5;28;01mNone\u001b[39;00m\n\u001b[0;32m--> 443\u001b[0m \u001b[38;5;28;01mfor\u001b[39;00m results \u001b[38;5;129;01min\u001b[39;00m \u001b[38;5;28mself\u001b[39m\u001b[38;5;241m.\u001b[39msample(initial_state, iterations\u001b[38;5;241m=\u001b[39mnsteps, \u001b[38;5;241m*\u001b[39m\u001b[38;5;241m*\u001b[39mkwargs):\n\u001b[1;32m    444\u001b[0m     \u001b[38;5;28;01mpass\u001b[39;00m\n\u001b[1;32m    446\u001b[0m \u001b[38;5;66;03m# Store so that the ``initial_state=None`` case will work\u001b[39;00m\n",
      "File \u001b[0;32m/opt/anaconda3/envs/work/lib/python3.11/site-packages/emcee/ensemble.py:344\u001b[0m, in \u001b[0;36mEnsembleSampler.sample\u001b[0;34m(self, initial_state, log_prob0, rstate0, blobs0, iterations, tune, skip_initial_state_check, thin_by, thin, store, progress, progress_kwargs)\u001b[0m\n\u001b[1;32m    342\u001b[0m     state\u001b[38;5;241m.\u001b[39mblobs \u001b[38;5;241m=\u001b[39m blobs0\n\u001b[1;32m    343\u001b[0m \u001b[38;5;28;01mif\u001b[39;00m state\u001b[38;5;241m.\u001b[39mlog_prob \u001b[38;5;129;01mis\u001b[39;00m \u001b[38;5;28;01mNone\u001b[39;00m:\n\u001b[0;32m--> 344\u001b[0m     state\u001b[38;5;241m.\u001b[39mlog_prob, state\u001b[38;5;241m.\u001b[39mblobs \u001b[38;5;241m=\u001b[39m \u001b[38;5;28mself\u001b[39m\u001b[38;5;241m.\u001b[39mcompute_log_prob(state\u001b[38;5;241m.\u001b[39mcoords)\n\u001b[1;32m    345\u001b[0m \u001b[38;5;28;01mif\u001b[39;00m np\u001b[38;5;241m.\u001b[39mshape(state\u001b[38;5;241m.\u001b[39mlog_prob) \u001b[38;5;241m!=\u001b[39m (\u001b[38;5;28mself\u001b[39m\u001b[38;5;241m.\u001b[39mnwalkers,):\n\u001b[1;32m    346\u001b[0m     \u001b[38;5;28;01mraise\u001b[39;00m \u001b[38;5;167;01mValueError\u001b[39;00m(\u001b[38;5;124m\"\u001b[39m\u001b[38;5;124mincompatible input dimensions\u001b[39m\u001b[38;5;124m\"\u001b[39m)\n",
      "File \u001b[0;32m/opt/anaconda3/envs/work/lib/python3.11/site-packages/emcee/ensemble.py:489\u001b[0m, in \u001b[0;36mEnsembleSampler.compute_log_prob\u001b[0;34m(self, coords)\u001b[0m\n\u001b[1;32m    487\u001b[0m     \u001b[38;5;28;01melse\u001b[39;00m:\n\u001b[1;32m    488\u001b[0m         map_func \u001b[38;5;241m=\u001b[39m \u001b[38;5;28mmap\u001b[39m\n\u001b[0;32m--> 489\u001b[0m     results \u001b[38;5;241m=\u001b[39m \u001b[38;5;28mlist\u001b[39m(map_func(\u001b[38;5;28mself\u001b[39m\u001b[38;5;241m.\u001b[39mlog_prob_fn, p))\n\u001b[1;32m    491\u001b[0m \u001b[38;5;28;01mtry\u001b[39;00m:\n\u001b[1;32m    492\u001b[0m     log_prob \u001b[38;5;241m=\u001b[39m np\u001b[38;5;241m.\u001b[39marray([\u001b[38;5;28mfloat\u001b[39m(l[\u001b[38;5;241m0\u001b[39m]) \u001b[38;5;28;01mfor\u001b[39;00m l \u001b[38;5;129;01min\u001b[39;00m results])\n",
      "File \u001b[0;32m/opt/anaconda3/envs/work/lib/python3.11/site-packages/emcee/ensemble.py:624\u001b[0m, in \u001b[0;36m_FunctionWrapper.__call__\u001b[0;34m(self, x)\u001b[0m\n\u001b[1;32m    622\u001b[0m \u001b[38;5;28;01mdef\u001b[39;00m \u001b[38;5;21m__call__\u001b[39m(\u001b[38;5;28mself\u001b[39m, x):\n\u001b[1;32m    623\u001b[0m     \u001b[38;5;28;01mtry\u001b[39;00m:\n\u001b[0;32m--> 624\u001b[0m         \u001b[38;5;28;01mreturn\u001b[39;00m \u001b[38;5;28mself\u001b[39m\u001b[38;5;241m.\u001b[39mf(x, \u001b[38;5;241m*\u001b[39m\u001b[38;5;28mself\u001b[39m\u001b[38;5;241m.\u001b[39margs, \u001b[38;5;241m*\u001b[39m\u001b[38;5;241m*\u001b[39m\u001b[38;5;28mself\u001b[39m\u001b[38;5;241m.\u001b[39mkwargs)\n\u001b[1;32m    625\u001b[0m     \u001b[38;5;28;01mexcept\u001b[39;00m:  \u001b[38;5;66;03m# pragma: no cover\u001b[39;00m\n\u001b[1;32m    626\u001b[0m         \u001b[38;5;28;01mimport\u001b[39;00m \u001b[38;5;21;01mtraceback\u001b[39;00m\n",
      "File \u001b[0;32m~/Documents/Git/sie/sie/mcmc.py:613\u001b[0m, in \u001b[0;36mStatsModel.__call__\u001b[0;34m(self, θ)\u001b[0m\n\u001b[1;32m    612\u001b[0m \u001b[38;5;28;01mdef\u001b[39;00m \u001b[38;5;21m__call__\u001b[39m(\u001b[38;5;28mself\u001b[39m,θ):\n\u001b[0;32m--> 613\u001b[0m     \u001b[38;5;28;01mreturn\u001b[39;00m \u001b[38;5;28mself\u001b[39m\u001b[38;5;241m.\u001b[39m_lnposterior(θ)\n",
      "File \u001b[0;32m~/Documents/Git/sie/sie/mcmc.py:608\u001b[0m, in \u001b[0;36mStatsModel._lnposterior\u001b[0;34m(self, θ)\u001b[0m\n\u001b[1;32m    606\u001b[0m \u001b[38;5;28;01mif\u001b[39;00m \u001b[38;5;129;01mnot\u001b[39;00m np\u001b[38;5;241m.\u001b[39misfinite(_value):\n\u001b[1;32m    607\u001b[0m     \u001b[38;5;28;01mreturn\u001b[39;00m \u001b[38;5;241m-\u001b[39mnp\u001b[38;5;241m.\u001b[39minf\n\u001b[0;32m--> 608\u001b[0m _value\u001b[38;5;241m+\u001b[39m\u001b[38;5;241m=\u001b[39m\u001b[38;5;28mself\u001b[39m\u001b[38;5;241m.\u001b[39m_lnlikelihood(θ,\u001b[38;5;28mself\u001b[39m\u001b[38;5;241m.\u001b[39mdata,\u001b[38;5;28mself\u001b[39m\u001b[38;5;241m.\u001b[39mslices,\u001b[38;5;28mself\u001b[39m\u001b[38;5;241m.\u001b[39mextra_params)\n\u001b[1;32m    610\u001b[0m \u001b[38;5;28;01mreturn\u001b[39;00m np\u001b[38;5;241m.\u001b[39msum(_value)\n",
      "File \u001b[0;32m<string>:58\u001b[0m, in \u001b[0;36m_lnlikelihood\u001b[0;34m(θ, data, slices, extra)\u001b[0m\n",
      "File \u001b[0;32m~/Documents/Git/sie/sie/mcmc.py:231\u001b[0m, in \u001b[0;36mStudentT.<locals>._StudentT\u001b[0;34m(x)\u001b[0m\n\u001b[1;32m    228\u001b[0m values\u001b[38;5;241m=\u001b[39mN\u001b[38;5;241m*\u001b[39m(gammaln((df\u001b[38;5;241m+\u001b[39m\u001b[38;5;241m1\u001b[39m)\u001b[38;5;241m/\u001b[39m\u001b[38;5;241m2.0\u001b[39m)\u001b[38;5;241m-\u001b[39m\u001b[38;5;241m0.5\u001b[39m\u001b[38;5;241m*\u001b[39mlog(df\u001b[38;5;241m*\u001b[39mnp\u001b[38;5;241m.\u001b[39mpi)\u001b[38;5;241m-\u001b[39mgammaln(df\u001b[38;5;241m/\u001b[39m\u001b[38;5;241m2.0\u001b[39m)\u001b[38;5;241m-\u001b[39mnp\u001b[38;5;241m.\u001b[39mlog(sd))\u001b[38;5;241m+\u001b[39m(\u001b[38;5;241m-\u001b[39m(df\u001b[38;5;241m+\u001b[39m\u001b[38;5;241m1\u001b[39m)\u001b[38;5;241m/\u001b[39m\u001b[38;5;241m2.0\u001b[39m)\u001b[38;5;241m*\u001b[39mnp\u001b[38;5;241m.\u001b[39mlog(\u001b[38;5;241m1\u001b[39m\u001b[38;5;241m+\u001b[39mt\u001b[38;5;241m*\u001b[39m\u001b[38;5;241m*\u001b[39m\u001b[38;5;241m2\u001b[39m\u001b[38;5;241m/\u001b[39mdf)\n\u001b[1;32m    230\u001b[0m \u001b[38;5;28;01mif\u001b[39;00m \u001b[38;5;28many\u001b[39m(np\u001b[38;5;241m.\u001b[39misnan(values)):\n\u001b[0;32m--> 231\u001b[0m     \u001b[38;5;28;01mraise\u001b[39;00m \u001b[38;5;167;01mValueError\u001b[39;00m(\u001b[38;5;124m'\u001b[39m\u001b[38;5;124mNaN in StudentT\u001b[39m\u001b[38;5;124m'\u001b[39m,df,mu,sd)\n\u001b[1;32m    233\u001b[0m \u001b[38;5;28;01mif\u001b[39;00m \u001b[38;5;28msum\u001b[39m:\n\u001b[1;32m    234\u001b[0m     \u001b[38;5;28;01mreturn\u001b[39;00m np\u001b[38;5;241m.\u001b[39msum(values)\n",
      "\u001b[0;31mValueError\u001b[0m: ('NaN in StudentT', array([-6.26093289e+13]), array([-1.76373583e+10]), array([-5.8180178e+16]))"
     ]
    }
   ],
   "source": [
    "model.run_mcmc(800,repeat=3)\n",
    "model.plot_chains()"
   ]
  },
  {
   "cell_type": "code",
   "execution_count": null,
   "id": "5aac2ead-72be-45f9-9000-bb5dfb9276b2",
   "metadata": {},
   "outputs": [],
   "source": [
    "print(model.make_func())"
   ]
  },
  {
   "cell_type": "code",
   "execution_count": null,
   "id": "31a1974a-3286-4c12-8d09-b50c70895d71",
   "metadata": {},
   "outputs": [],
   "source": []
  }
 ],
 "metadata": {
  "kernelspec": {
   "display_name": "python3",
   "language": "python",
   "name": "python3"
  }
 },
 "nbformat": 4,
 "nbformat_minor": 5
}
