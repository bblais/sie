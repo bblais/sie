{
 "cells": [
  {
   "cell_type": "markdown",
   "id": "84a3520b-f13f-4014-bb29-076ef29f6a59",
   "metadata": {},
   "source": [
    "## Tutorial: MCMC"
   ]
  },
  {
   "cell_type": "code",
   "execution_count": null,
   "id": "38485a3b-ef09-4464-a368-2b1a1a9ed437",
   "metadata": {},
   "outputs": [],
   "source": [
    "#| hide\n",
    "#skip\n",
    "! [ -e /content ] && pip install -Uqq pyndamics3 emcee # upgrade pyndamics3 on colab"
   ]
  },
  {
   "cell_type": "code",
   "execution_count": null,
   "id": "5fd52a9d-8b05-452d-907d-9d66879e1458",
   "metadata": {},
   "outputs": [],
   "source": [
    "%matplotlib inline\n",
    "from pylab import *"
   ]
  },
  {
   "cell_type": "code",
   "execution_count": null,
   "id": "e5b535fb-e10d-4f19-90b4-6020effd7657",
   "metadata": {},
   "outputs": [],
   "source": [
    "from sie.mcmc import StatsModel"
   ]
  },
  {
   "cell_type": "code",
   "execution_count": null,
   "id": "13a4db39-e7f8-4652-bae3-19547579614d",
   "metadata": {},
   "outputs": [],
   "source": [
    "x=randn(100)*5+1.2\n",
    "model=StatsModel()\n",
    "model.add_data(x=x)\n",
    "model.add(\"m ~ Normal(0,10)\")\n",
    "model.add(\"x ~ Normal(m,1)\")\n",
    "model.initialize()"
   ]
  },
  {
   "cell_type": "code",
   "execution_count": null,
   "id": "06cb0ff7-60cb-4bcc-b01c-f9cb549cad08",
   "metadata": {},
   "outputs": [
    {
     "name": "stdout",
     "output_type": "stream",
     "text": [
      "Sampling Prior...\n",
      "Done.\n",
      "0.18 s\n"
     ]
    },
    {
     "ename": "AttributeError",
     "evalue": "property 'chain' of 'EnsembleSampler' object has no setter",
     "output_type": "error",
     "traceback": [
      "\u001b[0;31m---------------------------------------------------------------------------\u001b[0m",
      "\u001b[0;31mAttributeError\u001b[0m                            Traceback (most recent call last)",
      "Cell \u001b[0;32mIn[6], line 1\u001b[0m\n\u001b[0;32m----> 1\u001b[0m model\u001b[38;5;241m.\u001b[39mrun_mcmc(\u001b[38;5;241m800\u001b[39m,repeat\u001b[38;5;241m=\u001b[39m\u001b[38;5;241m2\u001b[39m)\n\u001b[1;32m      2\u001b[0m model\u001b[38;5;241m.\u001b[39mplot_chains()\n",
      "File \u001b[0;32m~/Documents/Git/sie/sie/mcmc.py:531\u001b[0m, in \u001b[0;36mStatsModel.run_mcmc\u001b[0;34m(self, N, repeat, **kwargs)\u001b[0m\n\u001b[1;32m    528\u001b[0m nwalkers\u001b[38;5;241m=\u001b[39m\u001b[38;5;28mself\u001b[39m\u001b[38;5;241m.\u001b[39mnwalkers\n\u001b[1;32m    530\u001b[0m \u001b[38;5;28;01mif\u001b[39;00m \u001b[38;5;28mself\u001b[39m\u001b[38;5;241m.\u001b[39mlast_pos \u001b[38;5;129;01mis\u001b[39;00m \u001b[38;5;28;01mNone\u001b[39;00m:\n\u001b[0;32m--> 531\u001b[0m     \u001b[38;5;28mself\u001b[39m\u001b[38;5;241m.\u001b[39mset_initial_values(\u001b[38;5;124m'\u001b[39m\u001b[38;5;124mprior\u001b[39m\u001b[38;5;124m'\u001b[39m)\n\u001b[1;32m    534\u001b[0m \u001b[38;5;28;01mfor\u001b[39;00m i \u001b[38;5;129;01min\u001b[39;00m \u001b[38;5;28mrange\u001b[39m(repeat):        \n\u001b[1;32m    535\u001b[0m     timeit(reset\u001b[38;5;241m=\u001b[39m\u001b[38;5;28;01mTrue\u001b[39;00m)\n",
      "File \u001b[0;32m~/Documents/Git/sie/sie/mcmc.py:494\u001b[0m, in \u001b[0;36mStatsModel.set_initial_values\u001b[0;34m(self, method, **kwargs)\u001b[0m\n\u001b[1;32m    491\u001b[0m \u001b[38;5;28mprint\u001b[39m( timeit())\n\u001b[1;32m    493\u001b[0m \u001b[38;5;66;03m# assign the median back into the simulation values\u001b[39;00m\n\u001b[0;32m--> 494\u001b[0m \u001b[38;5;28mself\u001b[39m\u001b[38;5;241m.\u001b[39mburn()\n\u001b[1;32m    495\u001b[0m \u001b[38;5;28mself\u001b[39m\u001b[38;5;241m.\u001b[39mmedian_values\u001b[38;5;241m=\u001b[39mnp\u001b[38;5;241m.\u001b[39mpercentile(\u001b[38;5;28mself\u001b[39m\u001b[38;5;241m.\u001b[39msamples,\u001b[38;5;241m50\u001b[39m,axis\u001b[38;5;241m=\u001b[39m\u001b[38;5;241m0\u001b[39m)\n\u001b[1;32m    497\u001b[0m \u001b[38;5;28mself\u001b[39m\u001b[38;5;241m.\u001b[39mlast_pos\u001b[38;5;241m=\u001b[39m\u001b[38;5;28mself\u001b[39m\u001b[38;5;241m.\u001b[39msampler\u001b[38;5;241m.\u001b[39mchain[:,\u001b[38;5;241m-\u001b[39m\u001b[38;5;241m1\u001b[39m,:]\n",
      "File \u001b[0;32m~/Documents/Git/sie/sie/mcmc.py:524\u001b[0m, in \u001b[0;36mStatsModel.burn\u001b[0;34m(self, burn_percentage)\u001b[0m\n\u001b[1;32m    522\u001b[0m ndim\u001b[38;5;241m=\u001b[39m\u001b[38;5;28mself\u001b[39m\u001b[38;5;241m.\u001b[39mparameter_length\n\u001b[1;32m    523\u001b[0m \u001b[38;5;28mself\u001b[39m\u001b[38;5;241m.\u001b[39msamples \u001b[38;5;241m=\u001b[39m \u001b[38;5;28mself\u001b[39m\u001b[38;5;241m.\u001b[39msampler\u001b[38;5;241m.\u001b[39mchain[:, burnin:, :]\u001b[38;5;241m.\u001b[39mreshape((\u001b[38;5;241m-\u001b[39m\u001b[38;5;241m1\u001b[39m, ndim))\n\u001b[0;32m--> 524\u001b[0m \u001b[38;5;28mself\u001b[39m\u001b[38;5;241m.\u001b[39msampler\u001b[38;5;241m.\u001b[39mchain\u001b[38;5;241m=\u001b[39m\u001b[38;5;28mself\u001b[39m\u001b[38;5;241m.\u001b[39msampler\u001b[38;5;241m.\u001b[39mchain[:, burnin:, :]\n",
      "\u001b[0;31mAttributeError\u001b[0m: property 'chain' of 'EnsembleSampler' object has no setter"
     ]
    }
   ],
   "source": [
    "model.run_mcmc(800,repeat=2)\n",
    "model.plot_chains()"
   ]
  },
  {
   "cell_type": "code",
   "execution_count": null,
   "id": "892632d0-f726-459b-9210-736abe89a4de",
   "metadata": {},
   "outputs": [],
   "source": []
  },
  {
   "cell_type": "code",
   "execution_count": null,
   "id": "e51883a3-5300-4623-8e8b-13315e545032",
   "metadata": {},
   "outputs": [],
   "source": [
    "print(model.function_str)"
   ]
  },
  {
   "cell_type": "code",
   "execution_count": null,
   "id": "fffe2f89-32fc-421c-86a2-cdc9be0f2f62",
   "metadata": {},
   "outputs": [],
   "source": [
    "model.plot_distributions()"
   ]
  },
  {
   "cell_type": "code",
   "execution_count": null,
   "id": "dd45b096-2662-4917-9160-72410de091f6",
   "metadata": {},
   "outputs": [],
   "source": [
    "xy1=\"\"\"\n",
    "X\tY\n",
    "10\t8.04\n",
    "8\t6.95\n",
    "13\t7.58\n",
    "9\t8.81\n",
    "11\t8.33\n",
    "14\t9.96\n",
    "6\t7.24\n",
    "4\t4.26\n",
    "12\t10.84\n",
    "7\t4.82\n",
    "5\t5.68\n",
    "\"\"\"\n",
    "xy=xy1\n",
    "x,y=array([_.split() for _ in xy.strip().split('\\n')[1:]],dtype=float).T\n",
    "x,y"
   ]
  },
  {
   "cell_type": "code",
   "execution_count": null,
   "id": "788be77b-2341-48b4-9203-508cea30a41e",
   "metadata": {},
   "outputs": [],
   "source": [
    "model=StatsModel()\n",
    "model.add_data(x=x,y=y)\n",
    "model.add(\"m ~ Normal(0,10)\")\n",
    "model.add(\"b ~ Normal(0,10)\")\n",
    "model.add(\"σ ~ Jeffreys()\")\n",
    "model.add(\"y ~ Normal(m*x+b,σ)\")\n",
    "model.initialize()\n",
    "model"
   ]
  },
  {
   "cell_type": "code",
   "execution_count": null,
   "id": "360b7839-0c24-4360-91b8-2f583d071065",
   "metadata": {},
   "outputs": [],
   "source": [
    "print(model.function_str)"
   ]
  },
  {
   "cell_type": "code",
   "execution_count": null,
   "id": "5c03799b-dd49-41c5-b695-84fde3b79ca1",
   "metadata": {},
   "outputs": [],
   "source": [
    "model.run_mcmc(800,repeat=3)\n",
    "model.plot_chains()"
   ]
  },
  {
   "cell_type": "code",
   "execution_count": null,
   "id": "67387a54-8d92-46f1-ac5f-0b75846e7d92",
   "metadata": {},
   "outputs": [],
   "source": [
    "model.best_estimates()"
   ]
  },
  {
   "cell_type": "code",
   "execution_count": null,
   "id": "6fda2ef0-3c71-4e85-91f3-7d761280a5d6",
   "metadata": {},
   "outputs": [],
   "source": [
    "model.plot_chains('σ')"
   ]
  },
  {
   "cell_type": "code",
   "execution_count": null,
   "id": "b2d025d7-bcb3-44c6-a5cc-6324b9326bf3",
   "metadata": {},
   "outputs": [],
   "source": [
    "model.plot_distributions()"
   ]
  },
  {
   "cell_type": "code",
   "execution_count": null,
   "id": "a0adf710-56cb-4f76-8cc6-6ba61adc9966",
   "metadata": {},
   "outputs": [],
   "source": [
    "#| hide\n",
    "import nbdev; nbdev.nbdev_export()"
   ]
  },
  {
   "cell_type": "code",
   "execution_count": null,
   "id": "fdd306ca-df4e-4d8e-99c4-688fead397bd",
   "metadata": {},
   "outputs": [],
   "source": []
  }
 ],
 "metadata": {
  "kernelspec": {
   "display_name": "python3",
   "language": "python",
   "name": "python3"
  }
 },
 "nbformat": 4,
 "nbformat_minor": 5
}
