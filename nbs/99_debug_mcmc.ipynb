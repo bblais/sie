{
 "cells": [
  {
   "cell_type": "code",
   "execution_count": null,
   "id": "840f7d21-3a27-47f0-b62a-fef090aeb68e",
   "metadata": {},
   "outputs": [],
   "source": [
    "%matplotlib inline\n",
    "from pylab import *\n",
    "from sie.mcmc import StatsModel"
   ]
  },
  {
   "cell_type": "code",
   "execution_count": null,
   "id": "87ae83e7-9830-472f-bb88-00bd74f8fab7",
   "metadata": {},
   "outputs": [
    {
     "data": {
      "text/plain": [
       "(array([10.,  8., 13.,  9., 11., 14.,  6.,  4., 12.,  7.,  5.]),\n",
       " array([ 8.04,  6.95,  7.58,  8.81,  8.33,  9.96,  7.24,  4.26, 10.84,\n",
       "         4.82,  5.68]))"
      ]
     },
     "execution_count": null,
     "metadata": {},
     "output_type": "execute_result"
    }
   ],
   "source": [
    "xy1=\"\"\"\n",
    "X\tY\n",
    "10\t8.04\n",
    "8\t6.95\n",
    "13\t7.58\n",
    "9\t8.81\n",
    "11\t8.33\n",
    "14\t9.96\n",
    "6\t7.24\n",
    "4\t4.26\n",
    "12\t10.84\n",
    "7\t4.82\n",
    "5\t5.68\n",
    "\"\"\"\n",
    "xy=xy1\n",
    "x,y=array([_.split() for _ in xy.strip().split('\\n')[1:]],dtype=float).T\n",
    "x,y"
   ]
  },
  {
   "cell_type": "code",
   "execution_count": null,
   "id": "ea4187da-4a2d-40f3-8a1e-5e63ebacd8d4",
   "metadata": {},
   "outputs": [
    {
     "name": "stdout",
     "output_type": "stream",
     "text": [
      "rest bb Normal(0,10)\n",
      "name bb m\n"
     ]
    },
    {
     "ename": "NameError",
     "evalue": "name 'm' is not defined",
     "output_type": "error",
     "traceback": [
      "\u001b[0;31m---------------------------------------------------------------------------\u001b[0m",
      "\u001b[0;31mNameError\u001b[0m                                 Traceback (most recent call last)",
      "Cell \u001b[0;32mIn[3], line 4\u001b[0m\n\u001b[1;32m      2\u001b[0m model\u001b[38;5;241m.\u001b[39madd_data(y\u001b[38;5;241m=\u001b[39my)\n\u001b[1;32m      3\u001b[0m model\u001b[38;5;241m.\u001b[39madd(\u001b[38;5;124m\"\u001b[39m\u001b[38;5;124mm ~ Normal(0,10)\u001b[39m\u001b[38;5;124m\"\u001b[39m)\n\u001b[0;32m----> 4\u001b[0m model\u001b[38;5;241m.\u001b[39madd(\u001b[38;5;124m\"\u001b[39m\u001b[38;5;124mres ~ Normal(m-y,1,sum=True)\u001b[39m\u001b[38;5;124m\"\u001b[39m)\n\u001b[1;32m      5\u001b[0m model\u001b[38;5;241m.\u001b[39minitialize()\n\u001b[1;32m      6\u001b[0m model\n",
      "File \u001b[0;32m~/Documents/Git/sie/sie/mcmc.py:361\u001b[0m, in \u001b[0;36mStatsModel.add\u001b[0;34m(self, eqn)\u001b[0m\n\u001b[1;32m    358\u001b[0m \u001b[38;5;28;01mfrom\u001b[39;00m \u001b[38;5;21;01mio\u001b[39;00m \u001b[38;5;28;01mimport\u001b[39;00m StringIO\n\u001b[1;32m    359\u001b[0m \u001b[38;5;28;01mimport\u001b[39;00m \u001b[38;5;21;01mtokenize\u001b[39;00m\n\u001b[0;32m--> 361\u001b[0m param\u001b[38;5;241m=\u001b[39mParameter(eqn)\n\u001b[1;32m    362\u001b[0m \u001b[38;5;28mself\u001b[39m\u001b[38;5;241m.\u001b[39mparameters[param\u001b[38;5;241m.\u001b[39mname]\u001b[38;5;241m=\u001b[39mparam\n\u001b[1;32m    364\u001b[0m tokens\u001b[38;5;241m=\u001b[39m[token[\u001b[38;5;241m1\u001b[39m] \u001b[38;5;28;01mfor\u001b[39;00m token \u001b[38;5;129;01min\u001b[39;00m tokenize\u001b[38;5;241m.\u001b[39mgenerate_tokens(StringIO(eqn)\u001b[38;5;241m.\u001b[39mreadline) \u001b[38;5;28;01mif\u001b[39;00m token[\u001b[38;5;241m1\u001b[39m]]\n",
      "File \u001b[0;32m~/Documents/Git/sie/sie/mcmc.py:304\u001b[0m, in \u001b[0;36mParameter.__init__\u001b[0;34m(self, eqn, initial_value)\u001b[0m\n\u001b[1;32m    301\u001b[0m \u001b[38;5;28mself\u001b[39m\u001b[38;5;241m.\u001b[39mlength\u001b[38;5;241m=\u001b[39m\u001b[38;5;241m1\u001b[39m\n\u001b[1;32m    302\u001b[0m \u001b[38;5;28mself\u001b[39m\u001b[38;5;241m.\u001b[39mlower\u001b[38;5;241m=\u001b[39m\u001b[38;5;241m-\u001b[39mnp\u001b[38;5;241m.\u001b[39minf\n\u001b[0;32m--> 304\u001b[0m \u001b[38;5;28mself\u001b[39m\u001b[38;5;241m.\u001b[39mdistribution\u001b[38;5;241m=\u001b[39mexec(\u001b[38;5;28mself\u001b[39m\u001b[38;5;241m.\u001b[39mrest)\n\u001b[1;32m    305\u001b[0m \u001b[38;5;28mself\u001b[39m\u001b[38;5;241m.\u001b[39mdistribution_name\u001b[38;5;241m=\u001b[39m\u001b[38;5;28mself\u001b[39m\u001b[38;5;241m.\u001b[39mrest\n\u001b[1;32m    307\u001b[0m \u001b[38;5;28;01mif\u001b[39;00m \u001b[38;5;124m'\u001b[39m\u001b[38;5;124mJeffreys\u001b[39m\u001b[38;5;124m'\u001b[39m \u001b[38;5;129;01min\u001b[39;00m \u001b[38;5;28mself\u001b[39m\u001b[38;5;241m.\u001b[39mrest:\n",
      "File \u001b[0;32m<string>:1\u001b[0m\n",
      "\u001b[0;31mNameError\u001b[0m: name 'm' is not defined"
     ]
    }
   ],
   "source": [
    "model=StatsModel()\n",
    "model.add_data(y=y)\n",
    "model.add(\"m ~ Normal(0,10)\")\n",
    "model.add(\"res ~ Normal(m-y,1,sum=True)\")\n",
    "model.initialize()\n",
    "model"
   ]
  },
  {
   "cell_type": "code",
   "execution_count": null,
   "id": "8da46d7b-5ea2-43c6-a8f1-f805cbd295ef",
   "metadata": {},
   "outputs": [],
   "source": [
    "model.run_mcmc(50,repeat=3)\n",
    "model.plot_chains()"
   ]
  },
  {
   "cell_type": "code",
   "execution_count": null,
   "id": "bb201824-f42d-481e-9942-f0a3e729860c",
   "metadata": {},
   "outputs": [],
   "source": []
  },
  {
   "cell_type": "code",
   "execution_count": null,
   "id": "e22547f3-da8b-46d5-a8b0-0b02c872d027",
   "metadata": {},
   "outputs": [],
   "source": [
    "raise ValueError"
   ]
  },
  {
   "cell_type": "code",
   "execution_count": null,
   "id": "7d283db5-482a-425e-84c4-cc85d91370cd",
   "metadata": {},
   "outputs": [],
   "source": []
  },
  {
   "cell_type": "code",
   "execution_count": null,
   "id": "d4060c3e-6d8a-4631-8b48-fbed13f9b49b",
   "metadata": {},
   "outputs": [],
   "source": []
  },
  {
   "cell_type": "code",
   "execution_count": null,
   "id": "06ab90a7-ffee-4fcd-a864-a3eda2b066e3",
   "metadata": {},
   "outputs": [],
   "source": []
  },
  {
   "cell_type": "code",
   "execution_count": null,
   "id": "b594891d-959a-440f-97fe-652628d14e20",
   "metadata": {},
   "outputs": [],
   "source": []
  },
  {
   "cell_type": "code",
   "execution_count": null,
   "id": "7c06c4cb-0a36-4d93-a4ca-c98a17997509",
   "metadata": {},
   "outputs": [],
   "source": [
    "model=StatsModel()\n",
    "model.add_data(x=x,y=y)\n",
    "model.add(\"m ~ Normal(0,10)\")\n",
    "model.add(\"b ~ Normal(0,10)\")\n",
    "model.add(\"σ ~ Jeffreys()\")\n",
    "model.add(\"res ~ Normal(m*x+b-y,σ,sum=True)\")\n",
    "model.initialize()\n",
    "model"
   ]
  },
  {
   "cell_type": "code",
   "execution_count": null,
   "id": "12a92371-2223-477c-b326-454e775529a7",
   "metadata": {},
   "outputs": [],
   "source": [
    "print(model.make_func())"
   ]
  },
  {
   "cell_type": "code",
   "execution_count": null,
   "id": "ae518786-6d88-4040-ab28-fc51d7058a2b",
   "metadata": {},
   "outputs": [],
   "source": [
    "model.run_mcmc(50,repeat=3)\n",
    "model.plot_chains()"
   ]
  },
  {
   "cell_type": "code",
   "execution_count": null,
   "id": "8905520b-4b0c-44f0-9b95-84df859815a1",
   "metadata": {},
   "outputs": [],
   "source": [
    "self=model\n",
    "args=[key for key in self.parameters if len(self.parameters[key])==1]\n",
    "result={}\n",
    "for key in args:\n",
    "    s=self.slices.__getattribute__(key)\n",
    "    sub_sample=self.samples[:,s]\n",
    "    result[key]=np.percentile(sub_sample,[16,50,84],axis=0)"
   ]
  },
  {
   "cell_type": "code",
   "execution_count": null,
   "id": "39974c8d-0ed9-46c7-9381-9a8f7dfe1235",
   "metadata": {},
   "outputs": [],
   "source": [
    "result"
   ]
  },
  {
   "cell_type": "code",
   "execution_count": null,
   "id": "c7969e47-8bf1-4bd0-8573-45cb657befde",
   "metadata": {},
   "outputs": [],
   "source": [
    "model.plot_distributions()"
   ]
  },
  {
   "cell_type": "code",
   "execution_count": null,
   "id": "ddaa7918-48eb-4dbc-9293-408b97712819",
   "metadata": {},
   "outputs": [],
   "source": [
    "print(model.make_func())"
   ]
  },
  {
   "cell_type": "code",
   "execution_count": null,
   "id": "a3135ca5-566c-4e65-89b8-afe9a8e01350",
   "metadata": {},
   "outputs": [],
   "source": []
  },
  {
   "cell_type": "code",
   "execution_count": null,
   "id": "13a9bb81-b614-4bc5-be25-52dae6256fce",
   "metadata": {},
   "outputs": [],
   "source": [
    "raise ValueError"
   ]
  },
  {
   "cell_type": "code",
   "execution_count": null,
   "id": "7fe5c62d-de28-4c35-995a-a1a2f44c885a",
   "metadata": {},
   "outputs": [],
   "source": [
    "model=StatsModel()\n",
    "model.add_data(x=x,y=y)\n",
    "model.add(\"m ~ Normal(0,10)\")\n",
    "model.add(\"b ~ Normal(0,10)\")\n",
    "model.add(\"σ ~ Jeffreys()\")\n",
    "model.add(\"res ~ Normal(m*x+b-y,σ)\")   # this doesn't work yet\n",
    "model.initialize()\n",
    "model"
   ]
  },
  {
   "cell_type": "code",
   "execution_count": null,
   "id": "54d09e02-7a10-405d-9a14-acf1c8e7e937",
   "metadata": {},
   "outputs": [],
   "source": [
    "print(model.make_func())"
   ]
  },
  {
   "cell_type": "code",
   "execution_count": null,
   "id": "26ab4a27-3907-4550-ac92-ab3640fff3f2",
   "metadata": {},
   "outputs": [],
   "source": [
    "model.run_mcmc(800,repeat=3)\n",
    "model.plot_chains()"
   ]
  },
  {
   "cell_type": "code",
   "execution_count": null,
   "id": "3c38d562-12ca-444c-b3ab-16739abb2dc5",
   "metadata": {},
   "outputs": [],
   "source": []
  }
 ],
 "metadata": {
  "kernelspec": {
   "display_name": "python3",
   "language": "python",
   "name": "python3"
  }
 },
 "nbformat": 4,
 "nbformat_minor": 5
}
