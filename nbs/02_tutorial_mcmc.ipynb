{
 "cells": [
  {
   "cell_type": "markdown",
   "id": "84a3520b-f13f-4014-bb29-076ef29f6a59",
   "metadata": {},
   "source": [
    "## Tutorial: MCMC"
   ]
  },
  {
   "cell_type": "code",
   "execution_count": null,
   "id": "38485a3b-ef09-4464-a368-2b1a1a9ed437",
   "metadata": {},
   "outputs": [],
   "source": [
    "#| hide\n",
    "#skip\n",
    "! [ -e /content ] && pip install -Uqq pyndamics3 emcee # upgrade pyndamics3 on colab"
   ]
  },
  {
   "cell_type": "code",
   "execution_count": null,
   "id": "5fd52a9d-8b05-452d-907d-9d66879e1458",
   "metadata": {},
   "outputs": [],
   "source": [
    "%matplotlib inline\n",
    "from pylab import *"
   ]
  },
  {
   "cell_type": "code",
   "execution_count": null,
   "id": "e5b535fb-e10d-4f19-90b4-6020effd7657",
   "metadata": {},
   "outputs": [],
   "source": [
    "from sie.mcmc import StatsModel"
   ]
  },
  {
   "cell_type": "code",
   "execution_count": null,
   "id": "dd45b096-2662-4917-9160-72410de091f6",
   "metadata": {},
   "outputs": [
    {
     "data": {
      "text/plain": [
       "(array([10.,  8., 13.,  9., 11., 14.,  6.,  4., 12.,  7.,  5.]),\n",
       " array([ 8.04,  6.95,  7.58,  8.81,  8.33,  9.96,  7.24,  4.26, 10.84,\n",
       "         4.82,  5.68]))"
      ]
     },
     "execution_count": null,
     "metadata": {},
     "output_type": "execute_result"
    }
   ],
   "source": [
    "xy1=\"\"\"\n",
    "X\tY\n",
    "10\t8.04\n",
    "8\t6.95\n",
    "13\t7.58\n",
    "9\t8.81\n",
    "11\t8.33\n",
    "14\t9.96\n",
    "6\t7.24\n",
    "4\t4.26\n",
    "12\t10.84\n",
    "7\t4.82\n",
    "5\t5.68\n",
    "\"\"\"\n",
    "xy=xy1\n",
    "x,y=array([_.split() for _ in xy.strip().split('\\n')[1:]],dtype=float).T\n",
    "x,y"
   ]
  },
  {
   "cell_type": "code",
   "execution_count": null,
   "id": "788be77b-2341-48b4-9203-508cea30a41e",
   "metadata": {},
   "outputs": [
    {
     "ename": "KeyError",
     "evalue": "'_lnprior'",
     "output_type": "error",
     "traceback": [
      "\u001b[0;31m---------------------------------------------------------------------------\u001b[0m",
      "\u001b[0;31mKeyError\u001b[0m                                  Traceback (most recent call last)",
      "Cell \u001b[0;32mIn[6], line 7\u001b[0m\n\u001b[1;32m      5\u001b[0m model\u001b[38;5;241m.\u001b[39madd(\u001b[38;5;124m\"\u001b[39m\u001b[38;5;124mσ ~ Jeffreys()\u001b[39m\u001b[38;5;124m\"\u001b[39m)\n\u001b[1;32m      6\u001b[0m model\u001b[38;5;241m.\u001b[39madd(\u001b[38;5;124m\"\u001b[39m\u001b[38;5;124mres ~ Normal(m*x+b-y,σ,sum=True)\u001b[39m\u001b[38;5;124m\"\u001b[39m)\n\u001b[0;32m----> 7\u001b[0m model\u001b[38;5;241m.\u001b[39minitialize()\n\u001b[1;32m      8\u001b[0m model\n",
      "File \u001b[0;32m~/Documents/Git/sie/sie/mcmc.py:338\u001b[0m, in \u001b[0;36mStatsModel.initialize\u001b[0;34m(self)\u001b[0m\n\u001b[1;32m    336\u001b[0m \u001b[38;5;28;01mdef\u001b[39;00m \u001b[38;5;21minitialize\u001b[39m(\u001b[38;5;28mself\u001b[39m):\n\u001b[1;32m    337\u001b[0m     \u001b[38;5;28;01mfrom\u001b[39;00m \u001b[38;5;21;01mcollections\u001b[39;00m \u001b[38;5;28;01mimport\u001b[39;00m namedtuple\n\u001b[0;32m--> 338\u001b[0m     \u001b[38;5;28mself\u001b[39m\u001b[38;5;241m.\u001b[39mmake_func()\n\u001b[1;32m    340\u001b[0m     names\u001b[38;5;241m=\u001b[39m\u001b[38;5;124m'\u001b[39m\u001b[38;5;124m,\u001b[39m\u001b[38;5;124m'\u001b[39m\u001b[38;5;241m.\u001b[39mjoin(\u001b[38;5;28mself\u001b[39m\u001b[38;5;241m.\u001b[39mparameters)\n\u001b[1;32m    341\u001b[0m     slicetuple \u001b[38;5;241m=\u001b[39m namedtuple(\u001b[38;5;124m\"\u001b[39m\u001b[38;5;124mslicetuple\u001b[39m\u001b[38;5;124m\"\u001b[39m, names)\n",
      "File \u001b[0;32m~/Documents/Git/sie/sie/mcmc.py:670\u001b[0m, in \u001b[0;36mmake_func\u001b[0;34m(self)\u001b[0m\n\u001b[1;32m    666\u001b[0m \u001b[38;5;28mself\u001b[39m\u001b[38;5;241m.\u001b[39mfunction_str\u001b[38;5;241m=\u001b[39ms\n\u001b[1;32m    668\u001b[0m exec(s)\n\u001b[0;32m--> 670\u001b[0m \u001b[38;5;28mself\u001b[39m\u001b[38;5;241m.\u001b[39m_lnprior\u001b[38;5;241m=\u001b[39m\u001b[38;5;28mlocals\u001b[39m()[\u001b[38;5;124m'\u001b[39m\u001b[38;5;124m_lnprior\u001b[39m\u001b[38;5;124m'\u001b[39m]\n\u001b[1;32m    671\u001b[0m \u001b[38;5;28mself\u001b[39m\u001b[38;5;241m.\u001b[39m_lnlikelihood\u001b[38;5;241m=\u001b[39m\u001b[38;5;28mlocals\u001b[39m()[\u001b[38;5;124m'\u001b[39m\u001b[38;5;124m_lnlikelihood\u001b[39m\u001b[38;5;124m'\u001b[39m]\n\u001b[1;32m    673\u001b[0m \u001b[38;5;28;01mreturn\u001b[39;00m s\n",
      "\u001b[0;31mKeyError\u001b[0m: '_lnprior'"
     ]
    }
   ],
   "source": [
    "model=StatsModel()\n",
    "model.add_data(x=x,y=y)\n",
    "model.add(\"m ~ Normal(0,10)\")\n",
    "model.add(\"b ~ Normal(0,10)\")\n",
    "model.add(\"σ ~ Jeffreys()\")\n",
    "model.add(\"res ~ Normal(m*x+b-y,σ,sum=True)\")\n",
    "model.initialize()\n",
    "model"
   ]
  },
  {
   "cell_type": "code",
   "execution_count": null,
   "id": "360b7839-0c24-4360-91b8-2f583d071065",
   "metadata": {},
   "outputs": [
    {
     "name": "stdout",
     "output_type": "stream",
     "text": [
      "def _init_prior(nwalkers,ndim,slices,extra={}):\n",
      "\n",
      "    _value=None\n",
      "\n",
      "    return _value\n",
      "\n",
      "\n",
      "def _lnlikelihood(θ,data,slices,extra={}):\n",
      "    x=data['x']\n",
      "    y=data['y']\n",
      "\n",
      "    m=θ[slices.m]\n",
      "    b=θ[slices.b]\n",
      "    σ=θ[slices.σ]\n",
      "\n",
      "    res=θ[slices.res]\n",
      "\n",
      "    _value=0\n",
      "\n",
      "    _value+=Normal(m*x+b-y,σ,sum=True)(res)\n",
      "\n",
      "    return _value.sum()\n",
      "\n"
     ]
    }
   ],
   "source": [
    "print(model.function_str)"
   ]
  },
  {
   "cell_type": "code",
   "execution_count": null,
   "id": "af3390ef-f339-4176-b072-e3bf8a2810b0",
   "metadata": {},
   "outputs": [],
   "source": [
    "print(model.make_func())"
   ]
  },
  {
   "cell_type": "code",
   "execution_count": null,
   "id": "5c03799b-dd49-41c5-b695-84fde3b79ca1",
   "metadata": {},
   "outputs": [],
   "source": [
    "model.run_mcmc(800,repeat=3)\n",
    "model.plot_chains()"
   ]
  },
  {
   "cell_type": "code",
   "execution_count": null,
   "id": "67387a54-8d92-46f1-ac5f-0b75846e7d92",
   "metadata": {},
   "outputs": [],
   "source": [
    "model.best_estimates()"
   ]
  },
  {
   "cell_type": "code",
   "execution_count": null,
   "id": "6fda2ef0-3c71-4e85-91f3-7d761280a5d6",
   "metadata": {},
   "outputs": [],
   "source": [
    "model.plot_chains('σ')"
   ]
  },
  {
   "cell_type": "code",
   "execution_count": null,
   "id": "b2d025d7-bcb3-44c6-a5cc-6324b9326bf3",
   "metadata": {},
   "outputs": [],
   "source": [
    "model.plot_distributions()"
   ]
  },
  {
   "cell_type": "code",
   "execution_count": null,
   "id": "a0adf710-56cb-4f76-8cc6-6ba61adc9966",
   "metadata": {},
   "outputs": [],
   "source": [
    "#| hide\n",
    "import nbdev; nbdev.nbdev_export()"
   ]
  },
  {
   "cell_type": "code",
   "execution_count": null,
   "id": "fdd306ca-df4e-4d8e-99c4-688fead397bd",
   "metadata": {},
   "outputs": [],
   "source": []
  }
 ],
 "metadata": {
  "kernelspec": {
   "display_name": "python3",
   "language": "python",
   "name": "python3"
  }
 },
 "nbformat": 4,
 "nbformat_minor": 5
}
